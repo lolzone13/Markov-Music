{
  "cells": [
    {
      "cell_type": "code",
      "execution_count": 1,
      "metadata": {
        "id": "XI_gdLa5vZCu",
        "colab": {
          "base_uri": "https://localhost:8080/"
        },
        "outputId": "55d3e5ba-24c5-4a64-e13f-ff9f8ead4a5e"
      },
      "outputs": [
        {
          "output_type": "stream",
          "name": "stdout",
          "text": [
            "Looking in indexes: https://pypi.org/simple, https://us-python.pkg.dev/colab-wheels/public/simple/\n",
            "Collecting mido\n",
            "  Downloading mido-1.2.10-py2.py3-none-any.whl (51 kB)\n",
            "\u001b[2K     \u001b[90m━━━━━━━━━━━━━━━━━━━━━━━━━━━━━━━━━━━━━━━━\u001b[0m \u001b[32m51.1/51.1 KB\u001b[0m \u001b[31m2.8 MB/s\u001b[0m eta \u001b[36m0:00:00\u001b[0m\n",
            "\u001b[?25hInstalling collected packages: mido\n",
            "Successfully installed mido-1.2.10\n"
          ]
        }
      ],
      "source": [
        "# Notebook for Testing\n",
        "# https://signal.vercel.app/edit\n",
        "# https://github.com/lolzone13/Markov-Music.git\n",
        "!pip install mido"
      ]
    },
    {
      "cell_type": "code",
      "source": [
        "!unzip kaggle.zip"
      ],
      "metadata": {
        "id": "6EvioCTrwACM"
      },
      "execution_count": null,
      "outputs": []
    },
    {
      "cell_type": "code",
      "execution_count": 2,
      "metadata": {
        "id": "6NS1mXj7vZDR"
      },
      "outputs": [],
      "source": [
        "import mido\n",
        "from music21 import converter, instrument, note, chord, stream\n",
        "from mido import MidiFile\n",
        "import numpy\n",
        "import glob\n",
        "import pickle\n",
        "import numpy as np\n",
        "import matplotlib.pyplot as plt\n",
        "import string"
      ]
    },
    {
      "cell_type": "code",
      "execution_count": null,
      "metadata": {
        "id": "X_S5gBOTvZDT"
      },
      "outputs": [],
      "source": [
        "import pygame\n",
        "\n",
        "pygame.init()\n",
        "pygame.mixer.music.load(r'test_output.mid')\n",
        "pygame.mixer.music.play()\n",
        "\n",
        "# while pygame.mixer.music.get_busy():\n",
        "#     pygame.time.wait(1000)\n",
        "pygame.time.wait(10000)\n",
        "pygame.mixer.music.stop()"
      ]
    },
    {
      "cell_type": "code",
      "source": [],
      "metadata": {
        "id": "ZGdi3bZUMuWa"
      },
      "execution_count": null,
      "outputs": []
    },
    {
      "cell_type": "code",
      "source": [
        "# https://github.com/Djadih/DataScience_Project\n"
      ],
      "metadata": {
        "id": "brOTlM0sMuT_"
      },
      "execution_count": null,
      "outputs": []
    },
    {
      "cell_type": "code",
      "source": [
        "def msg2dict(msg):\n",
        "    result = dict()\n",
        "    if 'note_on' in msg:\n",
        "        on_ = True\n",
        "    elif 'note_off' in msg:\n",
        "        on_ = False\n",
        "    else:\n",
        "        on_ = None\n",
        "    result['time'] = int(msg[msg.rfind('time'):].split(' ')[0].split('=')[1].translate(\n",
        "        str.maketrans({a: None for a in string.punctuation})))\n",
        "\n",
        "    if on_ is not None:\n",
        "        for k in ['note', 'velocity']:\n",
        "            result[k] = int(msg[msg.rfind(k):].split(' ')[0].split('=')[1].translate(\n",
        "                str.maketrans({a: None for a in string.punctuation})))\n",
        "    return [result, on_]\n",
        "\n",
        "def switch_note(last_state, note, velocity, on_=True):\n",
        "    # piano has 88 notes, corresponding to note id 21 to 108, any note out of this range will be ignored\n",
        "    result = [0] * 88 if last_state is None else last_state.copy()\n",
        "    if 21 <= note <= 108:\n",
        "        result[note-21] = velocity if on_ else 0\n",
        "    return result\n",
        "\n",
        "def get_new_state(new_msg, last_state):\n",
        "    new_msg, on_ = msg2dict(str(new_msg))\n",
        "    new_state = switch_note(last_state, note=new_msg['note'], velocity=new_msg['velocity'], on_=on_) if on_ is not None else last_state\n",
        "    return [new_state, new_msg['time']]\n",
        "\n",
        "def track2seq(track):\n",
        "    # piano has 88 notes, corresponding to note id 21 to 108, any note out of the id range will be ignored\n",
        "    result = []\n",
        "    last_state, last_time = get_new_state(str(track[0]), [0]*88)\n",
        "    for i in range(1, len(track)):\n",
        "        new_state, new_time = get_new_state(track[i], last_state)\n",
        "        if new_time > 0:\n",
        "            result += [last_state]*new_time\n",
        "        last_state, last_time = new_state, new_time\n",
        "    return result\n",
        "\n",
        "def mid2arry(mid, min_msg_pct=0.1):\n",
        "    tracks_len = [len(tr) for tr in mid.tracks]\n",
        "    min_n_msg = max(tracks_len) * min_msg_pct\n",
        "    # convert each track to nested list\n",
        "    all_arys = []\n",
        "    for i in range(len(mid.tracks)):\n",
        "        if len(mid.tracks[i]) > min_n_msg:\n",
        "            ary_i = track2seq(mid.tracks[i])\n",
        "            all_arys.append(ary_i)\n",
        "    # make all nested list the same length\n",
        "    max_len = max([len(ary) for ary in all_arys])\n",
        "    for i in range(len(all_arys)):\n",
        "        if len(all_arys[i]) < max_len:\n",
        "            all_arys[i] += [[0] * 88] * (max_len - len(all_arys[i]))\n",
        "    all_arys = np.array(all_arys)\n",
        "    all_arys = all_arys.max(axis=0)\n",
        "    # trim: remove consecutive 0s in the beginning and at the end\n",
        "    sums = all_arys.sum(axis=1)\n",
        "    ends = np.where(sums > 0)[0]\n",
        "    return all_arys[min(ends): max(ends)]\n",
        "\n",
        "def arry2mid(ary, tempo=500000):\n",
        "    # get the difference\n",
        "    new_ary = np.concatenate([np.array([[0] * 88]), np.array(ary)], axis=0)\n",
        "    changes = new_ary[1:] - new_ary[:-1]\n",
        "    # create a midi file with an empty track\n",
        "    mid_new = mido.MidiFile()\n",
        "    track = mido.MidiTrack()\n",
        "    mid_new.tracks.append(track)\n",
        "    track.append(mido.MetaMessage('set_tempo', tempo=tempo, time=0))\n",
        "    # add difference in the empty track\n",
        "    last_time = 0\n",
        "    for ch in changes:\n",
        "        if set(ch) == {0}:  # no change\n",
        "            last_time += 1\n",
        "        else:\n",
        "            on_notes = np.where(ch > 0)[0]\n",
        "            on_notes_vol = ch[on_notes]\n",
        "            off_notes = np.where(ch < 0)[0]\n",
        "            first_ = True\n",
        "            for n, v in zip(on_notes, on_notes_vol):\n",
        "                new_time = last_time if first_ else 0\n",
        "                track.append(mido.Message('note_on', note=n + 21, velocity=v, time=new_time))\n",
        "                first_ = False\n",
        "            for n in off_notes:\n",
        "                new_time = last_time if first_ else 0\n",
        "                track.append(mido.Message('note_off', note=n + 21, velocity=0, time=new_time))\n",
        "                first_ = False\n",
        "            last_time = 0\n",
        "    return mid_new"
      ],
      "metadata": {
        "id": "Kynh9fKdMuQM"
      },
      "execution_count": 12,
      "outputs": []
    },
    {
      "cell_type": "code",
      "source": [],
      "metadata": {
        "id": "z_on8GlpXgrA"
      },
      "execution_count": 7,
      "outputs": []
    },
    {
      "cell_type": "code",
      "source": [
        "\n",
        "mid = mido.MidiFile('/content/kaggle/mozart/mz_311_1.mid', clip=True)\n",
        "# mid.tracks[0]\n",
        "midi_array = mid2arry(mid)\n"
      ],
      "metadata": {
        "id": "Da4EuQXUdc4o"
      },
      "execution_count": 18,
      "outputs": []
    },
    {
      "cell_type": "code",
      "source": [
        "plt.plot(range(result_array.shape[0]), np.multiply(np.where(result_array>0, 1, 0), range(1, 89)), marker='.', markersize=1, linestyle='')\n",
        "plt.title(\"midi viz\")\n",
        "plt.show()"
      ],
      "metadata": {
        "colab": {
          "base_uri": "https://localhost:8080/",
          "height": 451
        },
        "id": "EJKIkXaCVWYc",
        "outputId": "48f5d90d-653c-4b2f-86d8-245188d26ad9"
      },
      "execution_count": null,
      "outputs": [
        {
          "output_type": "display_data",
          "data": {
            "text/plain": [
              "<Figure size 640x480 with 1 Axes>"
            ],
            "image/png": "[encoded data removed]"
          },
          "metadata": {
            "image/png": {
              "width": 543,
              "height": 434
            }
          }
        }
      ]
    },
    {
      "cell_type": "code",
      "source": [
        "midi_array.shape"
      ],
      "metadata": {
        "colab": {
          "base_uri": "https://localhost:8080/"
        },
        "id": "d049xBWNMuK9",
        "outputId": "77a823cc-1fff-4574-d201-4e728749b846"
      },
      "execution_count": 17,
      "outputs": [
        {
          "output_type": "execute_result",
          "data": {
            "text/plain": [
              "(289439, 88)"
            ]
          },
          "metadata": {},
          "execution_count": 17
        }
      ]
    },
    {
      "cell_type": "code",
      "source": [],
      "metadata": {
        "id": "kl4sXW4FXhZh"
      },
      "execution_count": null,
      "outputs": []
    },
    {
      "cell_type": "code",
      "source": [
        "def encode_vector_to_state(v):\n",
        "  state = \"\"\n",
        "  cnt = 1\n",
        "  n = v.size\n",
        "  for i in range(1,n):\n",
        "    if v[i] == v[i-1]:\n",
        "      cnt +=1\n",
        "    else:\n",
        "      state += str(v[i-1]) + 'x' + str(cnt) + '-'\n",
        "      cnt = 1\n",
        "  \n",
        "  state += str(v[-1]) + 'x' + str(cnt)\n",
        "  return state\n",
        "  \n",
        "# print(encode_vector(np.array([0,0,1,1,1,1,4,5,0,0,0,0,0,45,0,0,0,0])))\n",
        "\n",
        "def decode_state_to_vector(state):\n",
        "  v = []\n",
        "  uniq = state.split('-')\n",
        "  for el in uniq:\n",
        "    num, cnt = el.split('x')\n",
        "    v += [int(num)]*int(cnt)\n",
        "  return np.array(v)\n",
        "\n",
        "# print(decode_state_to_vector('0x2-1x4-4x1-5x1-0x5-45x1-0x4'))"
      ],
      "metadata": {
        "id": "k_ukl-x2Z8ZL"
      },
      "execution_count": 19,
      "outputs": []
    },
    {
      "cell_type": "code",
      "source": [
        "uniq_midi_rows = np.unique(midi_array, axis=0)"
      ],
      "metadata": {
        "id": "Ii_wzXjBfByw"
      },
      "execution_count": 20,
      "outputs": []
    },
    {
      "cell_type": "code",
      "source": [
        "print(uniq_midi_rows.shape)\n",
        "print(\"uniq/total % = \", 100*uniq_midi_rows.shape[0]/midi_array.shape[0])\n",
        "num_states = uniq_midi_rows.shape[0]"
      ],
      "metadata": {
        "colab": {
          "base_uri": "https://localhost:8080/"
        },
        "id": "1Qle135ofkb8",
        "outputId": "19418f59-ac55-4884-944a-a2167ba77ed7"
      },
      "execution_count": 23,
      "outputs": [
        {
          "output_type": "stream",
          "name": "stdout",
          "text": [
            "(1183, 88)\n",
            "uniq/total % =  0.40872169956363863\n"
          ]
        }
      ]
    },
    {
      "cell_type": "code",
      "source": [
        "states = [encode_vector_to_state(uniq_midi_rows[i]) for i in range(num_states)]\n",
        "print(states[0:10])"
      ],
      "metadata": {
        "colab": {
          "base_uri": "https://localhost:8080/"
        },
        "id": "WI_VS320f_9q",
        "outputId": "f66811a5-d690-4eb7-e7aa-b8e89d9a4ec5"
      },
      "execution_count": 24,
      "outputs": [
        {
          "output_type": "stream",
          "name": "stdout",
          "text": [
            "['0x88', '0x65-44x1-0x22', '0x65-45x1-0x22', '0x65-47x1-0x22', '0x65-51x1-0x22', '0x65-55x1-0x22', '0x65-56x1-0x22', '0x65-57x1-0x22', '0x64-44x1-0x23', '0x64-45x1-0x23']\n"
          ]
        }
      ]
    },
    {
      "cell_type": "code",
      "source": [
        "# def state_to_idx(state, states):\n",
        "#   return states.index(state)"
      ],
      "metadata": {
        "id": "4_n5x2d1irIh"
      },
      "execution_count": null,
      "outputs": []
    },
    {
      "cell_type": "code",
      "source": [
        "# transition matrix\n",
        "transition_prob = np.zeros((num_states, num_states))\n",
        "# now fill it\n",
        "for i in range(midi_array.shape[0]-1):\n",
        "  curr_st = encode_vector_to_state(midi_array[i])\n",
        "  next_st = encode_vector_to_state(midi_array[i+1])\n",
        "  transition_prob[states.index(curr_st), states.index(next_st)] += 1\n",
        "\n",
        "# now normalize to make it prob distri\n",
        "epsilon = 1e-12\n",
        "for i in range(num_states):\n",
        "  sum = np.sum(transition_prob[i])\n",
        "  transition_prob[i] = transition_prob[i]/(sum + epsilon)\n",
        "  err = 1 - np.sum(transition_prob[i])\n",
        "  transition_prob[i,0] += err\n",
        "\n"
      ],
      "metadata": {
        "id": "9SSck8kzgryQ"
      },
      "execution_count": 31,
      "outputs": []
    },
    {
      "cell_type": "code",
      "source": [
        "print(np.sum(transition_prob[0]))\n",
        "print(transition_prob[0])"
      ],
      "metadata": {
        "colab": {
          "base_uri": "https://localhost:8080/"
        },
        "id": "iP2tF7LXjUeo",
        "outputId": "9547555f-8162-4175-d1a8-bd8f2d8a91b9"
      },
      "execution_count": 34,
      "outputs": [
        {
          "output_type": "stream",
          "name": "stdout",
          "text": [
            "1.0\n",
            "[8.21565038e-15 0.00000000e+00 0.00000000e+00 ... 0.00000000e+00\n",
            " 0.00000000e+00 0.00000000e+00]\n"
          ]
        }
      ]
    },
    {
      "cell_type": "code",
      "source": [
        "def random_walk(transition_prob, init_state = 0, WALK_LENGTH = 100000):\n",
        "  '''\n",
        "  returns seq. of index of states\n",
        "  '''\n",
        "  walk = []\n",
        "  curr_st = init_state\n",
        "  for i in range(WALK_LENGTH):\n",
        "    walk.append(curr_st)\n",
        "    next_st = np.random.choice(np.arange(num_states), p=transition_prob[curr_st])\n",
        "    curr_st = next_st\n",
        "  \n",
        "  return np.array(walk) \n"
      ],
      "metadata": {
        "id": "xUS17OUJkO2O"
      },
      "execution_count": 43,
      "outputs": []
    },
    {
      "cell_type": "code",
      "source": [
        "generated_midi_seq_idx = random_walk(transition_prob, 0)\n",
        "print(generated_midi_seq_idx[:100])"
      ],
      "metadata": {
        "colab": {
          "base_uri": "https://localhost:8080/"
        },
        "id": "3Efex8djm0we",
        "outputId": "cbdf3cf9-9605-401e-d751-7465837c2f9d"
      },
      "execution_count": 63,
      "outputs": [
        {
          "output_type": "stream",
          "name": "stdout",
          "text": [
            "[0 0 0 0 0 0 0 0 0 0 0 0 0 0 0 0 0 0 0 0 0 0 0 0 0 0 0 0 0 0 0 0 0 0 0 0 0\n",
            " 0 0 0 0 0 0 0 0 0 0 0 0 0 0 0 0 0 0 0 0 0 0 0 0 0 0 0 0 0 0 0 0 0 0 0 0 0\n",
            " 0 0 0 0 0 0 0 0 0 0 0 0 0 0 0 0 0 0 0 0 0 0 0 0 0 0]\n"
          ]
        }
      ]
    },
    {
      "cell_type": "code",
      "source": [
        "plt.plot(generated_midi_seq_idx)"
      ],
      "metadata": {
        "colab": {
          "base_uri": "https://localhost:8080/",
          "height": 447
        },
        "id": "TsQefFkCnVDU",
        "outputId": "6e0eb4d1-5354-4c42-b994-d4d675884bcb"
      },
      "execution_count": 64,
      "outputs": [
        {
          "output_type": "execute_result",
          "data": {
            "text/plain": [
              "[<matplotlib.lines.Line2D at 0x7f1398e6caf0>]"
            ]
          },
          "metadata": {},
          "execution_count": 64
        },
        {
          "output_type": "display_data",
          "data": {
            "text/plain": [
              "<Figure size 640x480 with 1 Axes>"
            ],
            "image/png": "[encoded data removed]"
          },
          "metadata": {
            "image/png": {
              "width": 565,
              "height": 413
            }
          }
        }
      ]
    },
    {
      "cell_type": "code",
      "source": [
        "generated_midi_array = np.zeros((generated_midi_seq_idx.size, 88))\n",
        "i = 0\n",
        "for idx in generated_midi_seq_idx:\n",
        "  state = states[idx]\n",
        "  vector = decode_state_to_vector(state).reshape(1,-1)\n",
        "  generated_midi_array[i] = vector\n",
        "  i += 1\n",
        "\n",
        "generated_midi_array = generated_midi_array.astype('int')"
      ],
      "metadata": {
        "id": "bKI7nfdLnjeX"
      },
      "execution_count": 65,
      "outputs": []
    },
    {
      "cell_type": "code",
      "source": [
        "# print(generated_midi_array.shape)\n",
        "generated_midi_array[:4, :]"
      ],
      "metadata": {
        "colab": {
          "base_uri": "https://localhost:8080/"
        },
        "id": "r-w3bUuHo9Z1",
        "outputId": "a6db1acc-37d1-4635-b826-9f793815b066"
      },
      "execution_count": 66,
      "outputs": [
        {
          "output_type": "execute_result",
          "data": {
            "text/plain": [
              "array([[0, 0, 0, 0, 0, 0, 0, 0, 0, 0, 0, 0, 0, 0, 0, 0, 0, 0, 0, 0, 0, 0,\n",
              "        0, 0, 0, 0, 0, 0, 0, 0, 0, 0, 0, 0, 0, 0, 0, 0, 0, 0, 0, 0, 0, 0,\n",
              "        0, 0, 0, 0, 0, 0, 0, 0, 0, 0, 0, 0, 0, 0, 0, 0, 0, 0, 0, 0, 0, 0,\n",
              "        0, 0, 0, 0, 0, 0, 0, 0, 0, 0, 0, 0, 0, 0, 0, 0, 0, 0, 0, 0, 0, 0],\n",
              "       [0, 0, 0, 0, 0, 0, 0, 0, 0, 0, 0, 0, 0, 0, 0, 0, 0, 0, 0, 0, 0, 0,\n",
              "        0, 0, 0, 0, 0, 0, 0, 0, 0, 0, 0, 0, 0, 0, 0, 0, 0, 0, 0, 0, 0, 0,\n",
              "        0, 0, 0, 0, 0, 0, 0, 0, 0, 0, 0, 0, 0, 0, 0, 0, 0, 0, 0, 0, 0, 0,\n",
              "        0, 0, 0, 0, 0, 0, 0, 0, 0, 0, 0, 0, 0, 0, 0, 0, 0, 0, 0, 0, 0, 0],\n",
              "       [0, 0, 0, 0, 0, 0, 0, 0, 0, 0, 0, 0, 0, 0, 0, 0, 0, 0, 0, 0, 0, 0,\n",
              "        0, 0, 0, 0, 0, 0, 0, 0, 0, 0, 0, 0, 0, 0, 0, 0, 0, 0, 0, 0, 0, 0,\n",
              "        0, 0, 0, 0, 0, 0, 0, 0, 0, 0, 0, 0, 0, 0, 0, 0, 0, 0, 0, 0, 0, 0,\n",
              "        0, 0, 0, 0, 0, 0, 0, 0, 0, 0, 0, 0, 0, 0, 0, 0, 0, 0, 0, 0, 0, 0],\n",
              "       [0, 0, 0, 0, 0, 0, 0, 0, 0, 0, 0, 0, 0, 0, 0, 0, 0, 0, 0, 0, 0, 0,\n",
              "        0, 0, 0, 0, 0, 0, 0, 0, 0, 0, 0, 0, 0, 0, 0, 0, 0, 0, 0, 0, 0, 0,\n",
              "        0, 0, 0, 0, 0, 0, 0, 0, 0, 0, 0, 0, 0, 0, 0, 0, 0, 0, 0, 0, 0, 0,\n",
              "        0, 0, 0, 0, 0, 0, 0, 0, 0, 0, 0, 0, 0, 0, 0, 0, 0, 0, 0, 0, 0, 0]])"
            ]
          },
          "metadata": {},
          "execution_count": 66
        }
      ]
    },
    {
      "cell_type": "code",
      "source": [
        "mid.tracks[0]\n"
      ],
      "metadata": {
        "id": "o8feOguEpk0k"
      },
      "execution_count": null,
      "outputs": []
    },
    {
      "cell_type": "code",
      "source": [
        "# A tempo marking of 60 BPM equals one beat per second\n",
        "\n",
        "mid_new = arry2mid(generated_midi_array, 500000)\n",
        "mid_new.save('midi_gen3.mid')"
      ],
      "metadata": {
        "id": "WtIj0LIYpRQ2"
      },
      "execution_count": 68,
      "outputs": []
    },
    {
      "cell_type": "code",
      "source": [
        "'''\n",
        "TODO:\n",
        "write functions\n",
        "try increase order\n",
        "try softmax distri\n",
        "play midi in colab\n",
        "batch train \n",
        "HMM ?\n",
        "'''"
      ],
      "metadata": {
        "id": "GqMiYIvzXhWp",
        "colab": {
          "base_uri": "https://localhost:8080/",
          "height": 36
        },
        "outputId": "3b99cd7f-ea53-4048-9216-cb704830ec14"
      },
      "execution_count": 69,
      "outputs": [
        {
          "output_type": "execute_result",
          "data": {
            "text/plain": [
              "'\\nTODO:\\nwrite functions\\ntry increase order\\ntry softmax distri\\nplay midi in colab\\nbatch train \\nHMM ?\\n'"
            ],
            "application/vnd.google.colaboratory.intrinsic+json": {
              "type": "string"
            }
          },
          "metadata": {},
          "execution_count": 69
        }
      ]
    },
    {
      "cell_type": "code",
      "source": [],
      "metadata": {
        "id": "YTt7FZa1XhT6"
      },
      "execution_count": null,
      "outputs": []
    },
    {
      "cell_type": "code",
      "execution_count": null,
      "metadata": {
        "colab": {
          "base_uri": "https://localhost:8080/"
        },
        "id": "jWycFD3ivZDU",
        "outputId": "c3d90067-1310-4bc8-874a-e4bb06bd6d1d"
      },
      "outputs": [
        {
          "output_type": "stream",
          "name": "stdout",
          "text": [
            "parsing /content/MoonlightSonata.mid\n"
          ]
        }
      ],
      "source": [
        "def get_notes(filename):\n",
        "    buffer_size = 5000\n",
        "    notes = [''] * buffer_size\n",
        "    Last_time = 0\n",
        "    offset = []\n",
        "    midi = converter.parse(filename)\n",
        "    \n",
        "    print('parsing {}'.format(filename))\n",
        "    try:  # file has instrument parts\n",
        "        s2 = instrument.partitionByInstrument(midi)\n",
        "        notes_to_parse = s2.recurse()\n",
        "    except:  # file has notes in a flat structure\n",
        "        notes_to_parse = midi.flat.notes\n",
        "\n",
        "    for element in notes_to_parse:\n",
        "      if isinstance(element, note.Note):    \n",
        "         time = int(element.offset * 4)\n",
        "        # print(element)\n",
        "         if notes[time] == '':\n",
        "            notes[time] = str(element.pitch.midi)\n",
        "            last_time = time\n",
        "      elif isinstance(element, chord.Chord):\n",
        "         time = int(element.offset * 4)\n",
        "         if notes[time] == '':\n",
        "            notes[time] = '.'.join(str(n) for n in element.normalOrder)\n",
        "            last_time = time\n",
        "    return np.array(notes[:last_time])\n",
        "\n",
        "notes = get_notes(\"/content/MoonlightSonata.mid\")\n"
      ]
    },
    {
      "cell_type": "code",
      "source": [
        "'''\n",
        "In midi files, each Note has a distinct midi number ranging from 21 to 108\n",
        "Dimension = n rows * 88 columns, each row contains the state of 88 notes at a particular time step. The notes out of piano keyboard range will be ignored.\n",
        "The values in the array represent velocity (0 means note off, while (0:127] means note on).\n",
        "'''"
      ],
      "metadata": {
        "id": "93HZZrTfG-db"
      },
      "execution_count": null,
      "outputs": []
    },
    {
      "cell_type": "code",
      "source": [
        "for note in notes:\n",
        "  print(note, end='-')"
      ],
      "metadata": {
        "colab": {
          "base_uri": "https://localhost:8080/"
        },
        "id": "GZq8O8lZF1VD",
        "outputId": "10352b96-b89e-4245-e746-1b3d0a943458"
      },
      "execution_count": null,
      "outputs": [
        {
          "output_type": "stream",
          "name": "stdout",
          "text": [
            "1-61-64--56-61-64--56-61-64--56-61-64--11-61-64--56-61-64--56-61-64--56-61-64--57-61-64--57-61-64--57-62-66--57-62-66--8-60-66--56-61-64--8-61-63--54-60-63--52-56-61--56-61-64--56-61-64--68-61-4.8--68-63-66--56-63-66--56-63-66--68-63-6.8--68-61-64--56-61-64--69-61-66--57-61-66--68-59-64--56-59-64--6.9-59-63--57-59-63--64-59-64--56-59-64--56-59-64--56-59-64--4-59-64--55-59-64--55-59-64--67-59-4.7--67-59-65--55-59-65--55-59-65--67-59-5.7--67-60-64--11-59-64--55-61-64--66-61-64--66-59-62--54-59-62--67-59-61--64-59-61--66-59-62--54-59-62--66-58-61--54-58-61--59-62-66--59-62-66--59-63-66--71-63-66--59-64-67--59-64-67--59-64-67--70-64-67--71-63-66--59-63-66--59-63-66--59-63-66--59-64-67--59-64-67--59-64-67--59-64-67--71-63-66--59-63-66--59-62-65--59-62-65--59-61-68--59-61-68--69-61-66--57-61-66--67-59-62---59-62--66-57-63---57-63--61-54-57---49-57--61-49-54--61-49-54--56-57-61--57-61-66--61-66-69--61-66-9.1--73-68-71--61-68-71--61-68-71--73-68-11.1--73-66-69--61-66-69--60-66-69--73-66-69--63-66-68--63-66-68--63-66-68--75-66-68--76-68-73--64-68-73--75-66-69--73-64-70--72-60-63--68-60-63--69-60-63--66-60-63-------8-48--57-56-48--51--48--51-64-68--73-64-68--76-64-68--73-64-68------61-8-52--64--52--61--52--56-57-52--60-57-63--60-66-63--69-66-72---61---64-61-68--64-73-68--76-73-68--61-67-64--70-67-73--70-76-73--79-76-82--66-72-69--75-72-78--75-81-78--84-81-87--84-78-81--75-78-72--75-69-72--66-69-63--66-60-63--57-60---57------57------57-8-----57----57------57-8-----57--54--57--54-49-54--57-8-54--56--61--54-51-61---57-61---57-61--56--60--54-50-60---49-61---61-64--56-61-64--68-61-4.8--68-63-66---63-66---63-66--68-63-6.8--68-61-64---61-64--69-61-66--57-61-66--68-59-64---59-64--57-59-63--57-59-63--64-59-64--59-64-68--59-64-68--71-64-8.11--71-66-69--59-66-69--59-66-69--59-66-9.11--71-64-68--59-64-68--60-66-68--61-64-68--63-66-68--63-66-68--64-68-73--64-68-73--62-66-69--62-66-69--72-66-68--60-66-68--73-64-68--61-64-68--61-65-68--61-65-68--61-66-69--61-66-69--57-66-69--61-66-69--73-65-68--61-65-68--61-65-68--61-65-68--61-66-69--61-66-69--57-66-69--61-66-69--73-65-68--61-65-68--61-66-69--61-66-69--71-66-69--59-66-69--59-66-69--59-64-68--57-64-68--57-63-66--68-63-66--68-61-64--66-61-63---61-63--68-61-63--69-61-63--68-61-64---61-64--68-60-63---60-63--61-3-61---61-64---61-64---61-64---63-66---63-66---63-66---63-66---64-61--68-64-73--68-76-73--80-76-73--72-75-69--72-66-69--63-66-57--60-36---61-64-61--68-64-73--68-76-73--80-76-73--72-75-69--72-66-69--63-66-57--60-8---61--61--64-61----44-56--61-52------------44---44-8-----------61-44-56--6.8-44-56--61----56-49-52--56--56--52-44-49--52-56-52--49-44-49--44-40-44--40-37--------1.4.8--------"
          ]
        }
      ]
    },
    {
      "cell_type": "code",
      "source": [
        "print(np.unique(notes))"
      ],
      "metadata": {
        "colab": {
          "base_uri": "https://localhost:8080/"
        },
        "id": "mgfKIYSSHBi6",
        "outputId": "ba046172-65c4-4437-c5f7-97ff5baaf721"
      },
      "execution_count": null,
      "outputs": [
        {
          "output_type": "stream",
          "name": "stdout",
          "text": [
            "['' '1' '1.4.8' '11' '11.1' '3' '36' '37' '4' '4.7' '4.8' '40' '44' '48'\n",
            " '49' '5.7' '50' '51' '52' '54' '55' '56' '57' '58' '59' '6.8' '6.9' '60'\n",
            " '61' '62' '63' '64' '65' '66' '67' '68' '69' '70' '71' '72' '73' '75'\n",
            " '76' '78' '79' '8' '8.11' '80' '81' '82' '84' '87' '9.1' '9.11']\n"
          ]
        }
      ]
    },
    {
      "cell_type": "code",
      "execution_count": null,
      "metadata": {
        "id": "KB1YfjlxvZDX"
      },
      "outputs": [],
      "source": [
        "def prepare_sequences(notes, n_vocab, note_to_int):\n",
        "   sequence_length = 400\n",
        "   network_input = []\n",
        "   network_output = []\n",
        "   for i in range(0, len(notes) - sequence_length, 1):\n",
        "      sequence_in = notes[i:i + sequence_length]\n",
        "      sequence_out = notes[i + sequence_length]\n",
        "      network_input.append([note_to_int[char] for char in sequence_in])\n",
        "      network_output.append(note_to_int[sequence_out])\n",
        "   n_patterns = len(network_input)\n",
        "   normalized_input = np.reshape(network_input, (n_patterns, sequence_length, 1))\n",
        "   normalized_input = normalized_input / float(n_vocab)\n",
        "   # network_output = to_categorical(network_output)\n",
        "   return (network_input, normalized_input, network_output)"
      ]
    },
    {
      "cell_type": "code",
      "execution_count": null,
      "metadata": {
        "id": "1-JckEmAvZDZ"
      },
      "outputs": [],
      "source": [
        "pitchnames = sorted(set(item for item in notes))  \n",
        "# create a dictionary to map pitches to integers\n",
        "note_to_int = dict((note, number) for number, note in enumerate(pitchnames))\n",
        "int_to_note = dict((number, note) for number, note in enumerate(pitchnames))\n",
        "\n",
        "network_input, normalized_input, network_output = prepare_sequences(notes, len(set(notes)), note_to_int)"
      ]
    },
    {
      "cell_type": "code",
      "source": [
        "network_input = np.array(network_input)"
      ],
      "metadata": {
        "id": "KDObgOfUxDgs"
      },
      "execution_count": null,
      "outputs": []
    },
    {
      "cell_type": "code",
      "source": [
        "print(network_input.shape)"
      ],
      "metadata": {
        "colab": {
          "base_uri": "https://localhost:8080/"
        },
        "id": "5Zs_FV7ix-tM",
        "outputId": "a146b1f2-f135-4d3c-d52a-752314bc2a89"
      },
      "execution_count": null,
      "outputs": [
        {
          "output_type": "stream",
          "name": "stdout",
          "text": [
            "[[ 1 28 31 ... 33 36  0]\n",
            " [28 31  0 ... 36  0 30]\n",
            " [31  0 21 ...  0 30 33]\n",
            " ...\n",
            " [35  0 38 ...  0  0  0]\n",
            " [ 0 38 31 ...  0  0  0]\n",
            " [38 31 46 ...  0  0  0]]\n"
          ]
        }
      ]
    },
    {
      "cell_type": "code",
      "source": [
        "network_input"
      ],
      "metadata": {
        "colab": {
          "base_uri": "https://localhost:8080/"
        },
        "id": "1ke6bh7bxpwe",
        "outputId": "cc6f1bf3-8e0e-4d22-ae55-1df418900062"
      },
      "execution_count": null,
      "outputs": [
        {
          "output_type": "execute_result",
          "data": {
            "text/plain": [
              "array([[15,  0,  0, ..., 59, 57, 59],\n",
              "       [ 0,  0,  0, ..., 57, 59, 50],\n",
              "       [ 0,  0,  0, ..., 59, 50, 45],\n",
              "       ...,\n",
              "       [67, 66, 67, ...,  0,  0, 27],\n",
              "       [66, 67, 62, ...,  0, 27,  0],\n",
              "       [67, 62, 67, ..., 27,  0,  0]])"
            ]
          },
          "metadata": {},
          "execution_count": 27
        }
      ]
    },
    {
      "cell_type": "code",
      "execution_count": null,
      "metadata": {
        "id": "kNy-UfxVvZDa"
      },
      "outputs": [],
      "source": [
        "def make_markov_chain(seq):\n",
        "  epsilon = 1e-9\n",
        "  n = len(seq)\n",
        "  transition_matrix = np.zeros((108,108))\n",
        "  for i in range(1,n):\n",
        "    transition_matrix[seq[i-1],seq[i]] += 1\n",
        "  for i in range(108):\n",
        "      transition_matrix[i] /= (np.sum(transition_matrix[i]) + epsilon)\n",
        "      rem = 1 - np.sum(transition_matrix[i])\n",
        "      transition_matrix[i][0] += rem\n",
        "  \n",
        "  return (transition_matrix)\n",
        "    \n"
      ]
    },
    {
      "cell_type": "code",
      "execution_count": null,
      "metadata": {
        "id": "hpyqy2OdvZDb"
      },
      "outputs": [],
      "source": [
        "def random_walk(transition_matrix):\n",
        "    generated_seq = []\n",
        "    states = np.arange(0,108,1)\n",
        "    f = 20\n",
        "    generated_seq.append(f)\n",
        "    for i in range(400):\n",
        "        state = np.random.choice(states, p=transition_matrix[f])\n",
        "        f = state\n",
        "        generated_seq.append(f)\n",
        "    return (generated_seq)\n",
        "\n",
        "\n",
        "transition_matrix = make_markov_chain(network_input)\n",
        "generated_sequence = random_walk(transition_matrix)\n"
      ]
    },
    {
      "cell_type": "code",
      "source": [
        "transition_matrix[0:10,0:10]"
      ],
      "metadata": {
        "colab": {
          "base_uri": "https://localhost:8080/"
        },
        "id": "6wbIJ16KwXZ4",
        "outputId": "747f5ca2-d771-4d1a-8da8-9285fc591243"
      },
      "execution_count": null,
      "outputs": [
        {
          "output_type": "execute_result",
          "data": {
            "text/plain": [
              "array([[3.49968613e-02, 6.97495989e-03, 6.97495989e-03, 1.13517472e-02,\n",
              "        1.87103299e-02, 6.10308991e-04, 6.97495989e-03, 6.97495989e-03,\n",
              "        0.00000000e+00, 1.87626421e-02],\n",
              "       [1.00000000e+00, 0.00000000e+00, 0.00000000e+00, 0.00000000e+00,\n",
              "        0.00000000e+00, 0.00000000e+00, 0.00000000e+00, 0.00000000e+00,\n",
              "        0.00000000e+00, 0.00000000e+00],\n",
              "       [1.00000000e+00, 0.00000000e+00, 0.00000000e+00, 0.00000000e+00,\n",
              "        0.00000000e+00, 0.00000000e+00, 0.00000000e+00, 0.00000000e+00,\n",
              "        0.00000000e+00, 0.00000000e+00],\n",
              "       [4.67048711e-01, 0.00000000e+00, 0.00000000e+00, 0.00000000e+00,\n",
              "        0.00000000e+00, 0.00000000e+00, 0.00000000e+00, 0.00000000e+00,\n",
              "        0.00000000e+00, 0.00000000e+00],\n",
              "       [1.00000000e+00, 0.00000000e+00, 0.00000000e+00, 0.00000000e+00,\n",
              "        0.00000000e+00, 0.00000000e+00, 0.00000000e+00, 0.00000000e+00,\n",
              "        0.00000000e+00, 0.00000000e+00],\n",
              "       [1.00000000e+00, 0.00000000e+00, 0.00000000e+00, 0.00000000e+00,\n",
              "        0.00000000e+00, 0.00000000e+00, 0.00000000e+00, 0.00000000e+00,\n",
              "        0.00000000e+00, 0.00000000e+00],\n",
              "       [1.00000000e+00, 0.00000000e+00, 0.00000000e+00, 0.00000000e+00,\n",
              "        0.00000000e+00, 0.00000000e+00, 0.00000000e+00, 0.00000000e+00,\n",
              "        0.00000000e+00, 0.00000000e+00],\n",
              "       [1.00000000e+00, 0.00000000e+00, 0.00000000e+00, 0.00000000e+00,\n",
              "        0.00000000e+00, 0.00000000e+00, 0.00000000e+00, 0.00000000e+00,\n",
              "        0.00000000e+00, 0.00000000e+00],\n",
              "       [5.38791234e-13, 0.00000000e+00, 0.00000000e+00, 0.00000000e+00,\n",
              "        0.00000000e+00, 0.00000000e+00, 0.00000000e+00, 0.00000000e+00,\n",
              "        5.00000000e-01, 0.00000000e+00],\n",
              "       [1.00000000e+00, 0.00000000e+00, 0.00000000e+00, 0.00000000e+00,\n",
              "        0.00000000e+00, 0.00000000e+00, 0.00000000e+00, 0.00000000e+00,\n",
              "        0.00000000e+00, 0.00000000e+00]])"
            ]
          },
          "metadata": {},
          "execution_count": 37
        }
      ]
    },
    {
      "cell_type": "code",
      "execution_count": null,
      "metadata": {
        "colab": {
          "base_uri": "https://localhost:8080/"
        },
        "id": "W7O0Sm0WvZDd",
        "outputId": "5dcc533c-4c10-418e-cd06-40eb7094a852"
      },
      "outputs": [
        {
          "output_type": "stream",
          "name": "stdout",
          "text": [
            "[<music21.chord.Chord E F#>, <music21.chord.Chord E- F->, <music21.chord.Chord A5>, <music21.chord.Chord G5>, <music21.chord.Chord A5>, <music21.chord.Chord E4>, <music21.chord.Chord E2>, <music21.chord.Chord E4>, <music21.chord.Chord E2>, <music21.chord.Chord C#4>, <music21.chord.Chord F#5>, <music21.chord.Chord D4>, <music21.chord.Chord B4>, <music21.chord.Chord D5>, <music21.chord.Chord C5>, <music21.chord.Chord C5>, <music21.chord.Chord A5>, <music21.chord.Chord F#5>, <music21.chord.Chord C#5>, <music21.chord.Chord A B C#>, <music21.chord.Chord B5>, <music21.chord.Chord E4>, <music21.chord.Chord A5>, <music21.chord.Chord A5>, <music21.chord.Chord A5>, <music21.chord.Chord B5>, <music21.chord.Chord A5>, <music21.chord.Chord B5>, <music21.chord.Chord C#6>, <music21.chord.Chord D6>, <music21.chord.Chord E3>, <music21.chord.Chord F#3>, <music21.chord.Chord G3>, <music21.chord.Chord B3>, <music21.chord.Chord G3>, <music21.chord.Chord A3>, <music21.chord.Chord G4>, <music21.chord.Chord A5>, <music21.chord.Chord B5>, <music21.chord.Chord C5>, <music21.chord.Chord G4>, <music21.chord.Chord G5>, <music21.chord.Chord A5>, <music21.chord.Chord B5>, <music21.chord.Chord G5>, <music21.chord.Chord F#5>, <music21.chord.Chord A4>, <music21.chord.Chord D5>, <music21.chord.Chord B4>, <music21.chord.Chord F#4>, <music21.chord.Chord D4>, <music21.chord.Chord F#>, <music21.chord.Chord A C#>, <music21.chord.Chord G#3>, <music21.chord.Chord F#5>, <music21.chord.Chord G4>, <music21.chord.Chord B4>, <music21.chord.Chord E5>, <music21.chord.Chord D5>, <music21.chord.Chord E6>, <music21.chord.Chord A4>, <music21.chord.Chord D5>, <music21.chord.Chord C5>, <music21.chord.Chord B4>, <music21.chord.Chord C#5>, <music21.chord.Chord B4>, <music21.chord.Chord C#5>, <music21.chord.Chord E5>, <music21.chord.Chord C#6>, <music21.chord.Chord A4>, <music21.chord.Chord B4>, <music21.chord.Chord C#5>, <music21.chord.Chord B4>, <music21.chord.Chord F#>, <music21.chord.Chord A C#>, <music21.chord.Chord E4>, <music21.chord.Chord C#4>, <music21.chord.Chord A B C#>, <music21.chord.Chord B5>, <music21.chord.Chord C#6>, <music21.chord.Chord D5>, <music21.chord.Chord G4>, <music21.chord.Chord F#5>, <music21.chord.Chord E-5>, <music21.chord.Chord F# G>, <music21.chord.Chord F#5>, <music21.chord.Chord B- D- F->, <music21.chord.Chord D F# A>, <music21.chord.Chord E3>, <music21.chord.Chord F#3>, <music21.chord.Chord E5>, <music21.chord.Chord E-5>, <music21.chord.Chord E5>, <music21.chord.Chord G4>, <music21.chord.Chord B3>, <music21.chord.Chord C#4>, <music21.chord.Chord A3>, <music21.chord.Chord B3>, <music21.chord.Chord E5>, <music21.chord.Chord A4>, <music21.chord.Chord D5>, <music21.chord.Chord B4>, <music21.chord.Chord B3>, <music21.chord.Chord G4>, <music21.chord.Chord C5>, <music21.chord.Chord A5>, <music21.chord.Chord D5>, <music21.chord.Chord E-5>, <music21.chord.Chord F#3>, <music21.chord.Chord G3>, <music21.chord.Chord B3>, <music21.chord.Chord C#4>, <music21.chord.Chord D5>, <music21.chord.Chord G# A>, <music21.chord.Chord A3>, <music21.chord.Chord E5>, <music21.chord.Chord B3>, <music21.chord.Chord E5>, <music21.chord.Chord C#6>, <music21.chord.Chord D4>, <music21.chord.Chord D6>, <music21.chord.Chord E5>, <music21.chord.Chord F#5>, <music21.chord.Chord A4>, <music21.chord.Chord D5>, <music21.chord.Chord D4>, <music21.chord.Chord C#5>, <music21.chord.Chord E5>, <music21.chord.Chord D5>, <music21.chord.Chord G4>, <music21.chord.Chord A4>, <music21.chord.Chord G#4>, <music21.chord.Chord A4>, <music21.chord.Chord D5>, <music21.chord.Chord D4>, <music21.chord.Chord E G>, <music21.chord.Chord C#6>, <music21.chord.Chord G# B>, <music21.chord.Chord E4>, <music21.chord.Chord C#4>, <music21.chord.Chord A3>, <music21.chord.Chord F#2>, <music21.chord.Chord G#5>, <music21.chord.Chord E4>, <music21.chord.Chord E5>, <music21.chord.Chord A4>, <music21.chord.Chord E4>, <music21.chord.Chord A2>, <music21.chord.Chord F4>, <music21.chord.Chord A4>, <music21.chord.Chord B5>, <music21.chord.Chord A5>, <music21.chord.Chord B5>, <music21.chord.Chord A5>, <music21.chord.Chord F#3>, <music21.chord.Chord F#5>, <music21.chord.Chord A4>, <music21.chord.Chord C#4>, <music21.chord.Chord E4>, <music21.chord.Chord E5>, <music21.chord.Chord E G>, <music21.chord.Chord G5>, <music21.chord.Chord D4>, <music21.chord.Chord B4>, <music21.chord.Chord B3>, <music21.chord.Chord G4>, <music21.chord.Chord E5>, <music21.chord.Chord G4>, <music21.chord.Chord F#4>, <music21.chord.Chord D4>, <music21.chord.Chord B5>, <music21.chord.Chord C#6>, <music21.chord.Chord D4>, <music21.chord.Chord G4>, <music21.chord.Chord B4>, <music21.chord.Chord A4>, <music21.chord.Chord E5>, <music21.chord.Chord F#5>, <music21.chord.Chord G4>, <music21.chord.Chord F#4>, <music21.chord.Chord B4>, <music21.chord.Chord B3>, <music21.chord.Chord F#3>, <music21.chord.Chord F#5>, <music21.chord.Chord G5>, <music21.chord.Chord D4>, <music21.chord.Chord F#3>, <music21.chord.Chord F#5>, <music21.chord.Chord A5>, <music21.chord.Chord C6>, <music21.chord.Chord B5>, <music21.chord.Chord G# A>, <music21.chord.Chord F# G#>, <music21.chord.Chord G# A>, <music21.chord.Chord A3>, <music21.chord.Chord C#4>, <music21.chord.Chord F#5>, <music21.chord.Chord C#5>, <music21.chord.Chord D5>, <music21.chord.Chord A4>, <music21.chord.Chord D5>, <music21.chord.Chord B4>, <music21.chord.Chord A4>, <music21.chord.Chord A3>, <music21.chord.Chord E5>, <music21.chord.Chord D3>, <music21.chord.Chord E>, <music21.chord.Chord G#3>, <music21.chord.Chord C#4>, <music21.chord.Chord A4>, <music21.chord.Chord A5>, <music21.chord.Chord F#5>, <music21.chord.Chord B5>, <music21.chord.Chord E5>, <music21.chord.Chord E4>, <music21.chord.Chord F#4>, <music21.chord.Chord E4>, <music21.chord.Chord A5>, <music21.chord.Chord G5>, <music21.chord.Chord A5>, <music21.chord.Chord E5>, <music21.chord.Chord C#5>, <music21.chord.Chord E5>, <music21.chord.Chord F#5>, <music21.chord.Chord A5>, <music21.chord.Chord D4>, <music21.chord.Chord A4>, <music21.chord.Chord E4>, <music21.chord.Chord A4>, <music21.chord.Chord A5>, <music21.chord.Chord E4>, <music21.chord.Chord E5>, <music21.chord.Chord C#5>, <music21.chord.Chord A4>, <music21.chord.Chord E5>, <music21.chord.Chord E4>, <music21.chord.Chord A2>, <music21.chord.Chord C#5>, <music21.chord.Chord E5>, <music21.chord.Chord G5>, <music21.chord.Chord A5>, <music21.chord.Chord G5>, <music21.chord.Chord C#5>, <music21.chord.Chord D4>, <music21.chord.Chord F#4>, <music21.chord.Chord E F#>, <music21.chord.Chord E- F->, <music21.chord.Chord A5>, <music21.chord.Chord F#5>, <music21.chord.Chord E3>, <music21.chord.Chord E4>, <music21.chord.Chord A2>, <music21.chord.Chord E4>, <music21.chord.Chord A5>, <music21.chord.Chord A4>, <music21.chord.Chord C#6>, <music21.chord.Chord B5>, <music21.chord.Chord A5>, <music21.chord.Chord D5>, <music21.chord.Chord B5>, <music21.chord.Chord C5>, <music21.chord.Chord G4>, <music21.chord.Chord G5>, <music21.chord.Chord C#4>, <music21.chord.Chord D5>, <music21.chord.Chord C5>, <music21.chord.Chord A5>, <music21.chord.Chord E5>, <music21.chord.Chord F#5>, <music21.chord.Chord A5>, <music21.chord.Chord F#4>, <music21.chord.Chord G4>, <music21.chord.Chord F#4>, <music21.chord.Chord F# G>, <music21.chord.Chord F#5>, <music21.chord.Chord F#4>, <music21.chord.Chord G4>, <music21.chord.Chord D4>, <music21.chord.Chord C#5>, <music21.chord.Chord A4>, <music21.chord.Chord D5>, <music21.chord.Chord C#6>, <music21.chord.Chord A4>, <music21.chord.Chord G#4>, <music21.chord.Chord C#6>, <music21.chord.Chord F5>, <music21.chord.Chord G4>, <music21.chord.Chord E5>, <music21.chord.Chord F#5>, <music21.chord.Chord D3>, <music21.chord.Chord F# G>, <music21.chord.Chord F#4>, <music21.chord.Chord A4>, <music21.chord.Chord C#4>, <music21.chord.Chord A3>, <music21.chord.Chord E5>, <music21.chord.Chord E4>, <music21.chord.Chord G#2>, <music21.chord.Chord E4>, <music21.chord.Chord G#2>, <music21.chord.Chord E4>, <music21.chord.Chord G#5>, <music21.chord.Chord G# B D>, <music21.chord.Chord A2>, <music21.chord.Chord B4>, <music21.chord.Chord A4>, <music21.chord.Chord D5>, <music21.chord.Chord F#4>, <music21.chord.Chord G4>, <music21.chord.Chord F#4>, <music21.chord.Chord A4>, <music21.chord.Chord G#5>, <music21.chord.Chord A4>, <music21.chord.Chord G#5>, <music21.chord.Chord A C# E>, <music21.chord.Chord A5>, <music21.chord.Chord G5>, <music21.chord.Chord C6>, <music21.chord.Chord A5>, <music21.chord.Chord E-5>, <music21.chord.Chord D5>, <music21.chord.Chord F#5>, <music21.chord.Chord G5>, <music21.chord.Chord A5>, <music21.chord.Chord G5>, <music21.chord.Chord E2>, <music21.chord.Chord E4>, <music21.chord.Chord C#4>, <music21.chord.Chord B3>, <music21.chord.Chord G3>, <music21.chord.Chord B3>, <music21.chord.Chord C#4>]\n"
          ]
        }
      ],
      "source": [
        "def create_midi(prediction_output):\n",
        "    \"\"\" convert the output from the prediction to notes and create a midi file\n",
        "        from the notes \"\"\"\n",
        "\n",
        "    output_notes = []\n",
        "\n",
        "    # create note and chord objects based on the values generated by the model\n",
        "    for idx, pattern in enumerate(prediction_output):\n",
        "      if len(pattern) != 0:\n",
        "        notes_in_chord = [int(n) for n in pattern.split('.')]\n",
        "        new_chord = chord.Chord(notes_in_chord)\n",
        "        new_chord.offset = idx/4\n",
        "        output_notes.append(new_chord)\n",
        "        # increase offset each iteration so that notes do not stack\n",
        "    print(output_notes)\n",
        "    midi_stream = stream.Stream(output_notes)\n",
        "    midi_stream.write('midi', fp='test_output.mid')\n",
        "\n",
        "sequence_notes = []\n",
        "\n",
        "for i in generated_sequence:   \n",
        "   if i not in int_to_note:\n",
        "      sequence_notes.append('')\n",
        "   else:\n",
        "      sequence_notes.append(int_to_note[i])\n",
        "\n",
        "create_midi(sequence_notes)"
      ]
    },
    {
      "cell_type": "code",
      "source": [],
      "metadata": {
        "id": "Yd6MYZ5dwR53"
      },
      "execution_count": null,
      "outputs": []
    }
  ],
  "metadata": {
    "kernelspec": {
      "display_name": "Python 3",
      "language": "python",
      "name": "python3"
    },
    "language_info": {
      "codemirror_mode": {
        "name": "ipython",
        "version": 3
      },
      "file_extension": ".py",
      "mimetype": "text/x-python",
      "name": "python",
      "nbconvert_exporter": "python",
      "pygments_lexer": "ipython3",
      "version": "3.11.0"
    },
    "orig_nbformat": 4,
    "colab": {
      "provenance": []
    }
  },
  "nbformat": 4,
  "nbformat_minor": 0
}