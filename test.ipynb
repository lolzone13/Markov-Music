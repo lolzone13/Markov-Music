{
 "cells": [
  {
   "cell_type": "code",
   "execution_count": null,
   "metadata": {},
   "outputs": [],
   "source": [
    "# Notebook for Testing"
   ]
  },
  {
   "cell_type": "code",
   "execution_count": 2,
   "metadata": {},
   "outputs": [],
   "source": [
    "from music21 import converter, instrument, note, chord, stream\n",
    "from mido import MidiFile\n",
    "import numpy\n",
    "import glob\n",
    "import pickle\n",
    "import numpy as np"
   ]
  },
  {
   "cell_type": "code",
   "execution_count": 12,
   "metadata": {},
   "outputs": [],
   "source": [
    "import pygame\n",
    "\n",
    "pygame.init()\n",
    "pygame.mixer.music.load(r'test_output.mid')\n",
    "pygame.mixer.music.play()\n",
    "\n",
    "# while pygame.mixer.music.get_busy():\n",
    "#     pygame.time.wait(1000)\n",
    "pygame.time.wait(10000)\n",
    "pygame.mixer.music.stop()"
   ]
  },
  {
   "cell_type": "code",
   "execution_count": 3,
   "metadata": {},
   "outputs": [
    {
     "name": "stdout",
     "output_type": "stream",
     "text": [
      "parsing midi\\kaggle\\mozart\\mz_311_1.mid\n"
     ]
    }
   ],
   "source": [
    "\n",
    "\n",
    "def get_notes(filename):\n",
    "    buffer_size = 500000\n",
    "    notes = [''] * buffer_size\n",
    "    Last_time = 0\n",
    "    offset = []\n",
    "    midi = converter.parse(filename)\n",
    "    \n",
    "    print('parsing {}'.format(filename))\n",
    "    try:  # file has instrument parts\n",
    "        s2 = instrument.partitionByInstrument(midi)\n",
    "        notes_to_parse = s2.recurse()\n",
    "    except:  # file has notes in a flat structure\n",
    "        notes_to_parse = midi.flat.notes\n",
    "\n",
    "    for element in notes_to_parse:\n",
    "      if isinstance(element, note.Note):\n",
    "        \n",
    "         time = int(element.offset * 4)\n",
    "        # print(element)\n",
    "         if notes[time] == '':\n",
    "            notes[time] = str(element.pitch.midi)\n",
    "            last_time = time\n",
    "      elif isinstance(element, chord.Chord):\n",
    "         time = int(element.offset * 4)\n",
    "         if notes[time] == '':\n",
    "            notes[time] = '.'.join(str(n) for n in element.normalOrder)\n",
    "            last_time = time\n",
    "\n",
    "    \n",
    "    return notes[:last_time]\n",
    "\n",
    "notes = get_notes(\"midi\\kaggle\\mozart\\mz_311_1.mid\")\n"
   ]
  },
  {
   "cell_type": "code",
   "execution_count": 4,
   "metadata": {},
   "outputs": [],
   "source": [
    "def prepare_sequences(notes, n_vocab, note_to_int):\n",
    "   sequence_length = 400\n",
    "   network_input = []\n",
    "   network_output = []\n",
    "   for i in range(0, len(notes) - sequence_length, 1):\n",
    "      sequence_in = notes[i:i + sequence_length]\n",
    "      sequence_out = notes[i + sequence_length]\n",
    "      network_input.append([note_to_int[char] for char in sequence_in])\n",
    "      network_output.append(note_to_int[sequence_out])\n",
    "   n_patterns = len(network_input)\n",
    "   normalized_input = np.reshape(network_input, (n_patterns, sequence_length, 1))\n",
    "   normalized_input = normalized_input / float(n_vocab)\n",
    "   # network_output = to_categorical(network_output)\n",
    "   return (network_input, normalized_input, network_output)"
   ]
  },
  {
   "cell_type": "code",
   "execution_count": 5,
   "metadata": {},
   "outputs": [],
   "source": [
    "pitchnames = sorted(set(item for item in notes))  \n",
    "# create a dictionary to map pitches to integers\n",
    "note_to_int = dict((note, number) for number, note in enumerate(pitchnames))\n",
    "int_to_note = dict((number, note) for number, note in enumerate(pitchnames))\n",
    "\n",
    "network_input, normalized_input, network_output = prepare_sequences(notes, len(set(notes)), note_to_int)"
   ]
  },
  {
   "cell_type": "code",
   "execution_count": 6,
   "metadata": {},
   "outputs": [],
   "source": [
    "def make_markov_chain(seq):\n",
    "    n = len(seq)\n",
    "    transition_matrix = np.zeros((108,108))\n",
    "    for i in range(1,n):\n",
    "        \n",
    "        transition_matrix[seq[i-1],seq[i]] += 1\n",
    "    for i in range(108):\n",
    "        transition_matrix[i] /= np.sum(transition_matrix[i])\n",
    "        rem = 1 - np.sum(transition_matrix[i])\n",
    "        transition_matrix[i][0] += rem\n",
    "    \n",
    "    return (transition_matrix)\n",
    "    \n"
   ]
  },
  {
   "cell_type": "code",
   "execution_count": 7,
   "metadata": {},
   "outputs": [
    {
     "name": "stderr",
     "output_type": "stream",
     "text": [
      "C:\\Users\\mohit\\AppData\\Local\\Temp\\ipykernel_43268\\1497260535.py:8: RuntimeWarning: invalid value encountered in divide\n",
      "  transition_matrix[i] /= np.sum(transition_matrix[i])\n"
     ]
    }
   ],
   "source": [
    "def random_walk(transition_matrix):\n",
    "    generated_seq = []\n",
    "    states = np.arange(0,108,1)\n",
    "    f = 20\n",
    "    generated_seq.append(f)\n",
    "    for i in range(400):\n",
    "        state = np.random.choice(states, p=transition_matrix[f])\n",
    "        f = state\n",
    "        generated_seq.append(f)\n",
    "    return (generated_seq)\n",
    "\n",
    "\n",
    "transition_matrix = make_markov_chain(network_input)\n",
    "generated_sequence = random_walk(transition_matrix)\n"
   ]
  },
  {
   "cell_type": "code",
   "execution_count": 8,
   "metadata": {},
   "outputs": [
    {
     "name": "stdout",
     "output_type": "stream",
     "text": [
      "[<music21.chord.Chord E F#>, <music21.chord.Chord E F#>, <music21.chord.Chord E- F->, <music21.chord.Chord A5>, <music21.chord.Chord C#5>, <music21.chord.Chord B4>, <music21.chord.Chord C#5>, <music21.chord.Chord F# A>, <music21.chord.Chord A4>, <music21.chord.Chord E4>, <music21.chord.Chord F#4>, <music21.chord.Chord E F#>, <music21.chord.Chord D E>, <music21.chord.Chord C# D>, <music21.chord.Chord E5>, <music21.chord.Chord C#5>, <music21.chord.Chord A4>, <music21.chord.Chord B3>, <music21.chord.Chord F#3>, <music21.chord.Chord G3>, <music21.chord.Chord A3>, <music21.chord.Chord B3>, <music21.chord.Chord F#3>, <music21.chord.Chord E5>, <music21.chord.Chord F#5>, <music21.chord.Chord E5>, <music21.chord.Chord A4>, <music21.chord.Chord G#4>, <music21.chord.Chord E F# G#>, <music21.chord.Chord F#5>, <music21.chord.Chord E5>, <music21.chord.Chord E4>, <music21.chord.Chord B5>, <music21.chord.Chord E4>, <music21.chord.Chord E2>, <music21.chord.Chord E4>, <music21.chord.Chord G#5>, <music21.chord.Chord E4>, <music21.chord.Chord F#4>, <music21.chord.Chord D E F#>, <music21.chord.Chord E5>, <music21.chord.Chord E-5>, <music21.chord.Chord E5>, <music21.chord.Chord C5>, <music21.chord.Chord G#5>, <music21.chord.Chord A5>, <music21.chord.Chord B5>, <music21.chord.Chord G5>, <music21.chord.Chord G# A>, <music21.chord.Chord A3>, <music21.chord.Chord C#4>, <music21.chord.Chord F#5>, <music21.chord.Chord E5>, <music21.chord.Chord E-5>, <music21.chord.Chord B D>, <music21.chord.Chord B-5>, <music21.chord.Chord D5>, <music21.chord.Chord A4>, <music21.chord.Chord B4>, <music21.chord.Chord A4>, <music21.chord.Chord B5>, <music21.chord.Chord C#6>, <music21.chord.Chord D4>, <music21.chord.Chord F#5>, <music21.chord.Chord F#5>, <music21.chord.Chord A4>, <music21.chord.Chord C#5>, <music21.chord.Chord D4>, <music21.chord.Chord B5>, <music21.chord.Chord C5>, <music21.chord.Chord G4>, <music21.chord.Chord C5>, <music21.chord.Chord A4>, <music21.chord.Chord E4>, <music21.chord.Chord F#4>, <music21.chord.Chord G4>, <music21.chord.Chord C5>, <music21.chord.Chord C#5>, <music21.chord.Chord E5>, <music21.chord.Chord E4>, <music21.chord.Chord B2>, <music21.chord.Chord B5>, <music21.chord.Chord G5>, <music21.chord.Chord A5>, <music21.chord.Chord B5>, <music21.chord.Chord E4>, <music21.chord.Chord B2>, <music21.chord.Chord E4>, <music21.chord.Chord A5>, <music21.chord.Chord E5>, <music21.chord.Chord G5>, <music21.chord.Chord A5>, <music21.chord.Chord G#5>, <music21.chord.Chord A4>, <music21.chord.Chord B4>, <music21.chord.Chord E-5>, <music21.chord.Chord D5>, <music21.chord.Chord B5>, <music21.chord.Chord F#5>, <music21.chord.Chord A4>, <music21.chord.Chord B5>, <music21.chord.Chord A5>, <music21.chord.Chord B5>, <music21.chord.Chord C#6>, <music21.chord.Chord D F#>, <music21.chord.Chord C#5>, <music21.chord.Chord B5>, <music21.chord.Chord A5>, <music21.chord.Chord G#5>, <music21.chord.Chord A4>, <music21.chord.Chord G#5>, <music21.chord.Chord D4>, <music21.chord.Chord E5>, <music21.chord.Chord C#4>, <music21.chord.Chord A4>, <music21.chord.Chord D5>, <music21.chord.Chord C#5>, <music21.chord.Chord B4>, <music21.chord.Chord A4>, <music21.chord.Chord B3>, <music21.chord.Chord G3>, <music21.chord.Chord B3>, <music21.chord.Chord A B>, <music21.chord.Chord A B>, <music21.chord.Chord A B>, <music21.chord.Chord A B>, <music21.chord.Chord B4>, <music21.chord.Chord C#5>, <music21.chord.Chord A4>, <music21.chord.Chord E4>, <music21.chord.Chord C#4>, <music21.chord.Chord D F#>, <music21.chord.Chord C#6>, <music21.chord.Chord D5>, <music21.chord.Chord C#5>, <music21.chord.Chord A B C#>, <music21.chord.Chord B5>, <music21.chord.Chord C#5>, <music21.chord.Chord D5>, <music21.chord.Chord D4>, <music21.chord.Chord D5>, <music21.chord.Chord F#5>, <music21.chord.Chord D6>, <music21.chord.Chord D5>, <music21.chord.Chord A4>, <music21.chord.Chord G#5>, <music21.chord.Chord E4>, <music21.chord.Chord A5>, <music21.chord.Chord F#5>, <music21.chord.Chord B5>, <music21.chord.Chord C#6>, <music21.chord.Chord D3>, <music21.chord.Chord E>, <music21.chord.Chord E3>, <music21.chord.Chord E3>, <music21.chord.Chord G5>, <music21.chord.Chord E5>, <music21.chord.Chord E4>, <music21.chord.Chord D4>, <music21.chord.Chord G5>, <music21.chord.Chord B5>, <music21.chord.Chord D4>, <music21.chord.Chord B3>, <music21.chord.Chord E5>, <music21.chord.Chord C#4>, <music21.chord.Chord E4>, <music21.chord.Chord E5>, <music21.chord.Chord G5>, <music21.chord.Chord F#5>, <music21.chord.Chord E-5>, <music21.chord.Chord G A>, <music21.chord.Chord C#4>, <music21.chord.Chord D5>, <music21.chord.Chord E5>, <music21.chord.Chord F5>, <music21.chord.Chord D5>, <music21.chord.Chord C# E>, <music21.chord.Chord G5>, <music21.chord.Chord D4>, <music21.chord.Chord C#6>, <music21.chord.Chord D6>, <music21.chord.Chord A5>, <music21.chord.Chord A3>, <music21.chord.Chord D3>, <music21.chord.Chord E2>, <music21.chord.Chord D4>, <music21.chord.Chord C#5>, <music21.chord.Chord F5>, <music21.chord.Chord E5>, <music21.chord.Chord E-5>, <music21.chord.Chord E5>, <music21.chord.Chord D F# A>, <music21.chord.Chord D F# A>, <music21.chord.Chord F#4>, <music21.chord.Chord E F#>, <music21.chord.Chord E F#>, <music21.chord.Chord E- F->, <music21.chord.Chord A5>, <music21.chord.Chord D6>, <music21.chord.Chord A5>, <music21.chord.Chord G5>, <music21.chord.Chord G#5>, <music21.chord.Chord A5>, <music21.chord.Chord B5>, <music21.chord.Chord F#5>, <music21.chord.Chord E5>, <music21.chord.Chord D5>, <music21.chord.Chord E5>, <music21.chord.Chord E-5>, <music21.chord.Chord E5>, <music21.chord.Chord A4>, <music21.chord.Chord E4>, <music21.chord.Chord G#2>, <music21.chord.Chord E4>, <music21.chord.Chord A4>, <music21.chord.Chord C#5>, <music21.chord.Chord D5>, <music21.chord.Chord F#4>, <music21.chord.Chord E4>, <music21.chord.Chord E5>, <music21.chord.Chord C#5>, <music21.chord.Chord B4>, <music21.chord.Chord D4>, <music21.chord.Chord C#4>, <music21.chord.Chord A4>, <music21.chord.Chord A2>, <music21.chord.Chord E4>, <music21.chord.Chord A4>, <music21.chord.Chord F#5>, <music21.chord.Chord D5>, <music21.chord.Chord G4>, <music21.chord.Chord F#5>, <music21.chord.Chord G5>, <music21.chord.Chord A5>, <music21.chord.Chord D4>, <music21.chord.Chord E G>, <music21.chord.Chord E>, <music21.chord.Chord A5>, <music21.chord.Chord D F#>, <music21.chord.Chord G B>, <music21.chord.Chord A C#>, <music21.chord.Chord F#5>, <music21.chord.Chord D6>, <music21.chord.Chord D4>, <music21.chord.Chord B4>, <music21.chord.Chord A4>, <music21.chord.Chord E4>, <music21.chord.Chord G#2>, <music21.chord.Chord E4>, <music21.chord.Chord F#4>, <music21.chord.Chord G4>, <music21.chord.Chord F#4>, <music21.chord.Chord A4>, <music21.chord.Chord F#5>, <music21.chord.Chord G5>, <music21.chord.Chord C5>, <music21.chord.Chord E- G->, <music21.chord.Chord C#6>, <music21.chord.Chord D5>, <music21.chord.Chord C#5>, <music21.chord.Chord A4>, <music21.chord.Chord B3>, <music21.chord.Chord A4>, <music21.chord.Chord C#4>, <music21.chord.Chord A3>, <music21.chord.Chord E3>, <music21.chord.Chord D4>, <music21.chord.Chord D6>, <music21.chord.Chord G#5>, <music21.chord.Chord A4>, <music21.chord.Chord D4>, <music21.chord.Chord G5>, <music21.chord.Chord F#5>, <music21.chord.Chord E-5>, <music21.chord.Chord G>, <music21.chord.Chord D F#>, <music21.chord.Chord D F# A>, <music21.chord.Chord D6>, <music21.chord.Chord E5>, <music21.chord.Chord G A>, <music21.chord.Chord G A>, <music21.chord.Chord G5>, <music21.chord.Chord D5>, <music21.chord.Chord C#6>, <music21.chord.Chord B5>, <music21.chord.Chord A4>, <music21.chord.Chord E4>, <music21.chord.Chord G#5>, <music21.chord.Chord A5>, <music21.chord.Chord A4>, <music21.chord.Chord C#5>, <music21.chord.Chord E5>, <music21.chord.Chord D6>, <music21.chord.Chord D5>, <music21.chord.Chord E5>, <music21.chord.Chord E5>, <music21.chord.Chord D5>, <music21.chord.Chord E5>, <music21.chord.Chord C#5>, <music21.chord.Chord B4>, <music21.chord.Chord D4>, <music21.chord.Chord C#4>, <music21.chord.Chord D5>, <music21.chord.Chord C#5>, <music21.chord.Chord A4>, <music21.chord.Chord A3>, <music21.chord.Chord E3>, <music21.chord.Chord B5>, <music21.chord.Chord E4>, <music21.chord.Chord D4>, <music21.chord.Chord C#4>, <music21.chord.Chord F#5>, <music21.chord.Chord D5>, <music21.chord.Chord E-5>, <music21.chord.Chord G A>, <music21.chord.Chord G5>, <music21.chord.Chord F#5>, <music21.chord.Chord E5>, <music21.chord.Chord E4>, <music21.chord.Chord A2>, <music21.chord.Chord A4>, <music21.chord.Chord E6>, <music21.chord.Chord D5>, <music21.chord.Chord C#5>, <music21.chord.Chord A4>, <music21.chord.Chord B5>, <music21.chord.Chord A5>, <music21.chord.Chord C6>, <music21.chord.Chord B5>, <music21.chord.Chord C#6>, <music21.chord.Chord E-5>, <music21.chord.Chord C D F#>, <music21.chord.Chord G# B>, <music21.chord.Chord A2>, <music21.chord.Chord E4>, <music21.chord.Chord G#5>, <music21.chord.Chord E4>, <music21.chord.Chord A5>, <music21.chord.Chord C5>, <music21.chord.Chord B4>]\n"
     ]
    }
   ],
   "source": [
    "def create_midi(prediction_output):\n",
    "    \"\"\" convert the output from the prediction to notes and create a midi file\n",
    "        from the notes \"\"\"\n",
    "\n",
    "    output_notes = []\n",
    "\n",
    "    # create note and chord objects based on the values generated by the model\n",
    "    for idx, pattern in enumerate(prediction_output):\n",
    "      if len(pattern) != 0:\n",
    "        notes_in_chord = [int(n) for n in pattern.split('.')]\n",
    "        new_chord = chord.Chord(notes_in_chord)\n",
    "        new_chord.offset = idx/4\n",
    "        output_notes.append(new_chord)\n",
    "        # increase offset each iteration so that notes do not stack\n",
    "    print(output_notes)\n",
    "    midi_stream = stream.Stream(output_notes)\n",
    "\n",
    "    midi_stream.write('midi', fp='test_output.mid')\n",
    "\n",
    "sequence_notes = []\n",
    "\n",
    "for i in generated_sequence:\n",
    "   \n",
    "   if i not in int_to_note:\n",
    "      sequence_notes.append('')\n",
    "   else:\n",
    "      sequence_notes.append(int_to_note[i])\n",
    "\n",
    "create_midi(sequence_notes)"
   ]
  }
 ],
 "metadata": {
  "kernelspec": {
   "display_name": "Python 3",
   "language": "python",
   "name": "python3"
  },
  "language_info": {
   "codemirror_mode": {
    "name": "ipython",
    "version": 3
   },
   "file_extension": ".py",
   "mimetype": "text/x-python",
   "name": "python",
   "nbconvert_exporter": "python",
   "pygments_lexer": "ipython3",
   "version": "3.11.0"
  },
  "orig_nbformat": 4
 },
 "nbformat": 4,
 "nbformat_minor": 2
}
