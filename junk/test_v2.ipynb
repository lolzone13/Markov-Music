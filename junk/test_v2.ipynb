{
  "cells": [
    {
      "cell_type": "code",
      "execution_count": 1,
      "metadata": {
        "id": "XI_gdLa5vZCu",
        "colab": {
          "base_uri": "https://localhost:8080/"
        },
        "outputId": "b7bf9440-05bc-4739-8101-a15c2a6f6997"
      },
      "outputs": [
        {
          "output_type": "stream",
          "name": "stdout",
          "text": [
            "Looking in indexes: https://pypi.org/simple, https://us-python.pkg.dev/colab-wheels/public/simple/\n",
            "Collecting mido\n",
            "  Downloading mido-1.2.10-py2.py3-none-any.whl (51 kB)\n",
            "\u001b[2K     \u001b[90m━━━━━━━━━━━━━━━━━━━━━━━━━━━━━━━━━━━━━━━━\u001b[0m \u001b[32m51.1/51.1 KB\u001b[0m \u001b[31m2.8 MB/s\u001b[0m eta \u001b[36m0:00:00\u001b[0m\n",
            "\u001b[?25hInstalling collected packages: mido\n",
            "Successfully installed mido-1.2.10\n"
          ]
        }
      ],
      "source": [
        "# Notebook for Testing\n",
        "# https://signal.vercel.app/edit\n",
        "# https://github.com/lolzone13/Markov-Music.git\n",
        "!pip install mido"
      ]
    },
    {
      "cell_type": "code",
      "source": [
        "!unzip archive.zip"
      ],
      "metadata": {
        "id": "6EvioCTrwACM"
      },
      "execution_count": null,
      "outputs": []
    },
    {
      "cell_type": "code",
      "execution_count": 25,
      "metadata": {
        "id": "6NS1mXj7vZDR"
      },
      "outputs": [],
      "source": [
        "import mido\n",
        "from music21 import converter, instrument, note, chord, stream\n",
        "from mido import MidiFile\n",
        "import numpy\n",
        "import glob\n",
        "import pickle\n",
        "import numpy as np\n",
        "import matplotlib.pyplot as plt\n",
        "import string"
      ]
    },
    {
      "cell_type": "code",
      "source": [],
      "metadata": {
        "id": "ZGdi3bZUMuWa"
      },
      "execution_count": null,
      "outputs": []
    },
    {
      "cell_type": "code",
      "source": [
        "# https://github.com/Djadih/DataScience_Project\n"
      ],
      "metadata": {
        "id": "brOTlM0sMuT_"
      },
      "execution_count": null,
      "outputs": []
    },
    {
      "cell_type": "code",
      "source": [
        "def msg2dict(msg):\n",
        "    result = dict()\n",
        "    if 'note_on' in msg:\n",
        "        on_ = True\n",
        "    elif 'note_off' in msg:\n",
        "        on_ = False\n",
        "    else:\n",
        "        on_ = None\n",
        "    result['time'] = int(msg[msg.rfind('time'):].split(' ')[0].split('=')[1].translate(\n",
        "        str.maketrans({a: None for a in string.punctuation})))\n",
        "\n",
        "    if on_ is not None:\n",
        "        for k in ['note', 'velocity']:\n",
        "            result[k] = int(msg[msg.rfind(k):].split(' ')[0].split('=')[1].translate(\n",
        "                str.maketrans({a: None for a in string.punctuation})))\n",
        "    return [result, on_]\n",
        "\n",
        "def switch_note(last_state, note, velocity, on_=True):\n",
        "    # piano has 88 notes, corresponding to note id 21 to 108, any note out of this range will be ignored\n",
        "    result = [0] * 88 if last_state is None else last_state.copy()\n",
        "    if 21 <= note <= 108:\n",
        "        result[note-21] = velocity if on_ else 0\n",
        "    return result\n",
        "\n",
        "def get_new_state(new_msg, last_state):\n",
        "    new_msg, on_ = msg2dict(str(new_msg))\n",
        "    new_state = switch_note(last_state, note=new_msg['note'], velocity=new_msg['velocity'], on_=on_) if on_ is not None else last_state\n",
        "    return [new_state, new_msg['time']]\n",
        "\n",
        "def track2seq(track):\n",
        "    # piano has 88 notes, corresponding to note id 21 to 108, any note out of the id range will be ignored\n",
        "    result = []\n",
        "    last_state, last_time = get_new_state(str(track[0]), [0]*88)\n",
        "    for i in range(1, len(track)):\n",
        "        new_state, new_time = get_new_state(track[i], last_state)\n",
        "        if new_time > 0:\n",
        "            result += [last_state]*new_time\n",
        "        last_state, last_time = new_state, new_time\n",
        "    return result\n",
        "\n",
        "def mid2arry(mid, min_msg_pct=0.1):\n",
        "    tracks_len = [len(tr) for tr in mid.tracks]\n",
        "    min_n_msg = max(tracks_len) * min_msg_pct\n",
        "    # convert each track to nested list\n",
        "    all_arys = []\n",
        "    for i in range(len(mid.tracks)):\n",
        "        if len(mid.tracks[i]) > min_n_msg:\n",
        "            ary_i = track2seq(mid.tracks[i])\n",
        "            all_arys.append(ary_i)\n",
        "    # make all nested list the same length\n",
        "    max_len = max([len(ary) for ary in all_arys])\n",
        "    for i in range(len(all_arys)):\n",
        "        if len(all_arys[i]) < max_len:\n",
        "            all_arys[i] += [[0] * 88] * (max_len - len(all_arys[i]))\n",
        "    all_arys = np.array(all_arys)\n",
        "    all_arys = all_arys.max(axis=0)\n",
        "    # trim: remove consecutive 0s in the beginning and at the end\n",
        "    sums = all_arys.sum(axis=1)\n",
        "    ends = np.where(sums > 0)[0]\n",
        "    return all_arys[min(ends): max(ends)]\n",
        "\n",
        "def arry2mid(ary, tempo=500000):\n",
        "    # get the difference\n",
        "    new_ary = np.concatenate([np.array([[0] * 88]), np.array(ary)], axis=0)\n",
        "    changes = new_ary[1:] - new_ary[:-1]\n",
        "    # create a midi file with an empty track\n",
        "    mid_new = mido.MidiFile()\n",
        "    track = mido.MidiTrack()\n",
        "    mid_new.tracks.append(track)\n",
        "    track.append(mido.MetaMessage('set_tempo', tempo=tempo, time=0))\n",
        "    # add difference in the empty track\n",
        "    last_time = 0\n",
        "    for ch in changes:\n",
        "        if set(ch) == {0}:  # no change\n",
        "            last_time += 1\n",
        "        else:\n",
        "            on_notes = np.where(ch > 0)[0]\n",
        "            on_notes_vol = ch[on_notes]\n",
        "            off_notes = np.where(ch < 0)[0]\n",
        "            first_ = True\n",
        "            for n, v in zip(on_notes, on_notes_vol):\n",
        "                new_time = last_time if first_ else 0\n",
        "                track.append(mido.Message('note_on', note=n + 21, velocity=v, time=new_time))\n",
        "                first_ = False\n",
        "            for n in off_notes:\n",
        "                new_time = last_time if first_ else 0\n",
        "                track.append(mido.Message('note_off', note=n + 21, velocity=0, time=new_time))\n",
        "                first_ = False\n",
        "            last_time = 0\n",
        "    return mid_new"
      ],
      "metadata": {
        "id": "Kynh9fKdMuQM"
      },
      "execution_count": 26,
      "outputs": []
    },
    {
      "cell_type": "code",
      "source": [],
      "metadata": {
        "id": "z_on8GlpXgrA"
      },
      "execution_count": 26,
      "outputs": []
    },
    {
      "cell_type": "code",
      "source": [
        "\n",
        "mid = mido.MidiFile('/content/kaggle/mozart/mz_311_1.mid', clip=True)\n",
        "# mid.tracks[0]\n",
        "midi_array = mid2arry(mid)\n"
      ],
      "metadata": {
        "id": "Da4EuQXUdc4o"
      },
      "execution_count": null,
      "outputs": []
    },
    {
      "cell_type": "code",
      "source": [
        "plt.plot(range(result_array.shape[0]), np.multiply(np.where(result_array>0, 1, 0), range(1, 89)), marker='.', markersize=1, linestyle='')\n",
        "plt.title(\"midi viz\")\n",
        "plt.show()"
      ],
      "metadata": {
        "colab": {
          "base_uri": "https://localhost:8080/",
          "height": 451
        },
        "id": "EJKIkXaCVWYc",
        "outputId": "48f5d90d-653c-4b2f-86d8-245188d26ad9"
      },
      "execution_count": null,
      "outputs": [
        {
          "output_type": "display_data",
          "data": {
            "text/plain": [
              "<Figure size 640x480 with 1 Axes>"
            ],
            "image/png": "[encoded data removed]"
          },
          "metadata": {
            "image/png": {
              "width": 543,
              "height": 434
            }
          }
        }
      ]
    },
    {
      "cell_type": "code",
      "source": [
        "midi_array.shape"
      ],
      "metadata": {
        "colab": {
          "base_uri": "https://localhost:8080/"
        },
        "id": "d049xBWNMuK9",
        "outputId": "77a823cc-1fff-4574-d201-4e728749b846"
      },
      "execution_count": null,
      "outputs": [
        {
          "output_type": "execute_result",
          "data": {
            "text/plain": [
              "(289439, 88)"
            ]
          },
          "metadata": {},
          "execution_count": 17
        }
      ]
    },
    {
      "cell_type": "code",
      "source": [
        "def get_midi_array(folder_path):\n",
        "  %cd $folder_path\n",
        "  midi_files = glob.glob('*.mid')\n",
        "\n",
        "  midi_array = np.empty((0,88))\n",
        "  for mi in midi_files:\n",
        "    mid = mido.MidiFile(folder_path + '/' + mi, clip=True)\n",
        "    midi_arr = np.array( mid2arry(mid))\n",
        "    midi_array = np.concatenate((midi_array, midi_arr), axis=0)\n",
        "\n",
        "  return midi_array\n",
        "\n",
        "midi_array = get_midi_array('/content/debussy')\n",
        "print(midi_array.shape)"
      ],
      "metadata": {
        "id": "kl4sXW4FXhZh",
        "colab": {
          "base_uri": "https://localhost:8080/"
        },
        "outputId": "1336302a-4181-4057-d27e-f0e290b2033d"
      },
      "execution_count": 45,
      "outputs": [
        {
          "output_type": "stream",
          "name": "stdout",
          "text": [
            "/content/debussy\n",
            "(1054192, 88)\n"
          ]
        }
      ]
    },
    {
      "cell_type": "code",
      "source": [
        "def encode_vector_to_state(v):\n",
        "  state = \"\"\n",
        "  cnt = 1\n",
        "  n = v.size\n",
        "  for i in range(1,n):\n",
        "    if v[i] == v[i-1]:\n",
        "      cnt +=1\n",
        "    else:\n",
        "      state += str(v[i-1]) + 'x' + str(cnt) + '-'\n",
        "      cnt = 1\n",
        "  \n",
        "  state += str(v[-1]) + 'x' + str(cnt)\n",
        "  return state\n",
        "  \n",
        "# print(encode_vector(np.array([0,0,1,1,1,1,4,5,0,0,0,0,0,45,0,0,0,0])))\n",
        "\n",
        "def decode_state_to_vector(state):\n",
        "  v = []\n",
        "  uniq = state.split('-')\n",
        "  for el in uniq:\n",
        "    num, cnt = el.split('x')\n",
        "    v += [int(num)]*int(cnt)\n",
        "  return np.array(v)\n",
        "\n",
        "# print(decode_state_to_vector('0x2-1x4-4x1-5x1-0x5-45x1-0x4'))"
      ],
      "metadata": {
        "id": "k_ukl-x2Z8ZL"
      },
      "execution_count": 28,
      "outputs": []
    },
    {
      "cell_type": "code",
      "source": [
        "uniq_midi_rows = np.unique(midi_array, axis=0)"
      ],
      "metadata": {
        "id": "Ii_wzXjBfByw"
      },
      "execution_count": 47,
      "outputs": []
    },
    {
      "cell_type": "code",
      "source": [
        "print(uniq_midi_rows.shape)\n",
        "print(\"uniq/total % = \", 100*uniq_midi_rows.shape[0]/midi_array.shape[0])\n",
        "num_states = uniq_midi_rows.shape[0]"
      ],
      "metadata": {
        "colab": {
          "base_uri": "https://localhost:8080/"
        },
        "id": "1Qle135ofkb8",
        "outputId": "1ecb012d-b477-40af-865f-1c096406db1a"
      },
      "execution_count": 48,
      "outputs": [
        {
          "output_type": "stream",
          "name": "stdout",
          "text": [
            "(4580, 88)\n",
            "uniq/total % =  0.4344559624812178\n"
          ]
        }
      ]
    },
    {
      "cell_type": "code",
      "source": [
        "states = [encode_vector_to_state(uniq_midi_rows[i]) for i in range(num_states)]\n",
        "print(states[0:10])"
      ],
      "metadata": {
        "colab": {
          "base_uri": "https://localhost:8080/"
        },
        "id": "WI_VS320f_9q",
        "outputId": "431d18a4-3742-405b-940b-9f6a00fc9f6c"
      },
      "execution_count": 50,
      "outputs": [
        {
          "output_type": "stream",
          "name": "stdout",
          "text": [
            "['0.0x88', '0.0x82-33.0x1-0.0x5', '0.0x80-33.0x1-0.0x7', '0.0x79-32.0x1-0.0x8', '0.0x79-33.0x1-0.0x8', '0.0x77-33.0x1-0.0x10', '0.0x75-33.0x1-0.0x12', '0.0x74-28.0x1-0.0x13', '0.0x74-33.0x1-0.0x13', '0.0x73-27.0x1-0.0x14']\n"
          ]
        }
      ]
    },
    {
      "cell_type": "code",
      "source": [
        "# def state_to_idx(state, states):\n",
        "#   return states.index(state)"
      ],
      "metadata": {
        "id": "4_n5x2d1irIh"
      },
      "execution_count": 51,
      "outputs": []
    },
    {
      "cell_type": "code",
      "source": [
        "# transition matrix\n",
        "transition_prob = np.zeros((num_states, num_states))\n",
        "# now fill it\n",
        "for i in range(midi_array.shape[0]-1):\n",
        "  curr_st = encode_vector_to_state(midi_array[i])\n",
        "  next_st = encode_vector_to_state(midi_array[i+1])\n",
        "  transition_prob[states.index(curr_st), states.index(next_st)] += 1\n",
        "\n",
        "# now normalize to make it prob distri\n",
        "epsilon = 1e-12\n",
        "for i in range(num_states):\n",
        "  sum = np.sum(transition_prob[i])\n",
        "  transition_prob[i] = transition_prob[i]/(sum + epsilon)\n",
        "  err = 1 - np.sum(transition_prob[i])\n",
        "  transition_prob[i,0] += err\n",
        "\n"
      ],
      "metadata": {
        "id": "9SSck8kzgryQ"
      },
      "execution_count": null,
      "outputs": []
    },
    {
      "cell_type": "code",
      "source": [
        "print(np.sum(transition_prob[0]))\n",
        "print(transition_prob[0])"
      ],
      "metadata": {
        "id": "iP2tF7LXjUeo"
      },
      "execution_count": null,
      "outputs": []
    },
    {
      "cell_type": "code",
      "source": [
        "def random_walk(transition_prob, init_state = 0, WALK_LENGTH = 100000):\n",
        "  '''\n",
        "  returns seq. of index of states\n",
        "  '''\n",
        "  walk = []\n",
        "  curr_st = init_state\n",
        "  for i in range(WALK_LENGTH):\n",
        "    walk.append(curr_st)\n",
        "    next_st = np.random.choice(np.arange(num_states), p=transition_prob[curr_st])\n",
        "    curr_st = next_st\n",
        "  \n",
        "  return np.array(walk) \n"
      ],
      "metadata": {
        "id": "xUS17OUJkO2O"
      },
      "execution_count": null,
      "outputs": []
    },
    {
      "cell_type": "code",
      "source": [
        "generated_midi_seq_idx = random_walk(transition_prob, 0)\n",
        "print(generated_midi_seq_idx[:100])"
      ],
      "metadata": {
        "id": "3Efex8djm0we"
      },
      "execution_count": null,
      "outputs": []
    },
    {
      "cell_type": "code",
      "source": [
        "plt.plot(generated_midi_seq_idx)"
      ],
      "metadata": {
        "id": "TsQefFkCnVDU"
      },
      "execution_count": null,
      "outputs": []
    },
    {
      "cell_type": "code",
      "source": [
        "generated_midi_array = np.zeros((generated_midi_seq_idx.size, 88))\n",
        "i = 0\n",
        "for idx in generated_midi_seq_idx:\n",
        "  state = states[idx]\n",
        "  vector = decode_state_to_vector(state).reshape(1,-1)\n",
        "  generated_midi_array[i] = vector\n",
        "  i += 1\n",
        "\n",
        "generated_midi_array = generated_midi_array.astype('int')"
      ],
      "metadata": {
        "id": "bKI7nfdLnjeX"
      },
      "execution_count": null,
      "outputs": []
    },
    {
      "cell_type": "code",
      "source": [
        "# print(generated_midi_array.shape)\n",
        "generated_midi_array[:4, :]"
      ],
      "metadata": {
        "colab": {
          "base_uri": "https://localhost:8080/"
        },
        "id": "r-w3bUuHo9Z1",
        "outputId": "a6db1acc-37d1-4635-b826-9f793815b066"
      },
      "execution_count": null,
      "outputs": [
        {
          "output_type": "execute_result",
          "data": {
            "text/plain": [
              "array([[0, 0, 0, 0, 0, 0, 0, 0, 0, 0, 0, 0, 0, 0, 0, 0, 0, 0, 0, 0, 0, 0,\n",
              "        0, 0, 0, 0, 0, 0, 0, 0, 0, 0, 0, 0, 0, 0, 0, 0, 0, 0, 0, 0, 0, 0,\n",
              "        0, 0, 0, 0, 0, 0, 0, 0, 0, 0, 0, 0, 0, 0, 0, 0, 0, 0, 0, 0, 0, 0,\n",
              "        0, 0, 0, 0, 0, 0, 0, 0, 0, 0, 0, 0, 0, 0, 0, 0, 0, 0, 0, 0, 0, 0],\n",
              "       [0, 0, 0, 0, 0, 0, 0, 0, 0, 0, 0, 0, 0, 0, 0, 0, 0, 0, 0, 0, 0, 0,\n",
              "        0, 0, 0, 0, 0, 0, 0, 0, 0, 0, 0, 0, 0, 0, 0, 0, 0, 0, 0, 0, 0, 0,\n",
              "        0, 0, 0, 0, 0, 0, 0, 0, 0, 0, 0, 0, 0, 0, 0, 0, 0, 0, 0, 0, 0, 0,\n",
              "        0, 0, 0, 0, 0, 0, 0, 0, 0, 0, 0, 0, 0, 0, 0, 0, 0, 0, 0, 0, 0, 0],\n",
              "       [0, 0, 0, 0, 0, 0, 0, 0, 0, 0, 0, 0, 0, 0, 0, 0, 0, 0, 0, 0, 0, 0,\n",
              "        0, 0, 0, 0, 0, 0, 0, 0, 0, 0, 0, 0, 0, 0, 0, 0, 0, 0, 0, 0, 0, 0,\n",
              "        0, 0, 0, 0, 0, 0, 0, 0, 0, 0, 0, 0, 0, 0, 0, 0, 0, 0, 0, 0, 0, 0,\n",
              "        0, 0, 0, 0, 0, 0, 0, 0, 0, 0, 0, 0, 0, 0, 0, 0, 0, 0, 0, 0, 0, 0],\n",
              "       [0, 0, 0, 0, 0, 0, 0, 0, 0, 0, 0, 0, 0, 0, 0, 0, 0, 0, 0, 0, 0, 0,\n",
              "        0, 0, 0, 0, 0, 0, 0, 0, 0, 0, 0, 0, 0, 0, 0, 0, 0, 0, 0, 0, 0, 0,\n",
              "        0, 0, 0, 0, 0, 0, 0, 0, 0, 0, 0, 0, 0, 0, 0, 0, 0, 0, 0, 0, 0, 0,\n",
              "        0, 0, 0, 0, 0, 0, 0, 0, 0, 0, 0, 0, 0, 0, 0, 0, 0, 0, 0, 0, 0, 0]])"
            ]
          },
          "metadata": {},
          "execution_count": 66
        }
      ]
    },
    {
      "cell_type": "code",
      "source": [
        "mid.tracks[0]\n"
      ],
      "metadata": {
        "id": "o8feOguEpk0k"
      },
      "execution_count": null,
      "outputs": []
    },
    {
      "cell_type": "code",
      "source": [
        "# A tempo marking of 60 BPM equals one beat per second\n",
        "\n",
        "mid_new = arry2mid(generated_midi_array, 500000)\n",
        "mid_new.save('midi_gen3.mid')"
      ],
      "metadata": {
        "id": "WtIj0LIYpRQ2"
      },
      "execution_count": null,
      "outputs": []
    },
    {
      "cell_type": "code",
      "source": [
        "'''\n",
        "TODO:\n",
        "write functions\n",
        "try increase order\n",
        "try softmax distri\n",
        "play midi in colab\n",
        "batch train \n",
        "HMM ?\n",
        "'''"
      ],
      "metadata": {
        "id": "GqMiYIvzXhWp",
        "colab": {
          "base_uri": "https://localhost:8080/",
          "height": 36
        },
        "outputId": "3b99cd7f-ea53-4048-9216-cb704830ec14"
      },
      "execution_count": null,
      "outputs": [
        {
          "output_type": "execute_result",
          "data": {
            "text/plain": [
              "'\\nTODO:\\nwrite functions\\ntry increase order\\ntry softmax distri\\nplay midi in colab\\nbatch train \\nHMM ?\\n'"
            ],
            "application/vnd.google.colaboratory.intrinsic+json": {
              "type": "string"
            }
          },
          "metadata": {},
          "execution_count": 69
        }
      ]
    },
    {
      "cell_type": "code",
      "source": [],
      "metadata": {
        "id": "YTt7FZa1XhT6"
      },
      "execution_count": null,
      "outputs": []
    },
    {
      "cell_type": "code",
      "source": [
        "'''\n",
        "In midi files, each Note has a distinct midi number ranging from 21 to 108\n",
        "Dimension = n rows * 88 columns, each row contains the state of 88 notes at a particular time step. The notes out of piano keyboard range will be ignored.\n",
        "The values in the array represent velocity (0 means note off, while (0:127] means note on).\n",
        "'''"
      ],
      "metadata": {
        "id": "93HZZrTfG-db"
      },
      "execution_count": null,
      "outputs": []
    },
    {
      "cell_type": "code",
      "source": [],
      "metadata": {
        "id": "Yd6MYZ5dwR53"
      },
      "execution_count": null,
      "outputs": []
    }
  ],
  "metadata": {
    "kernelspec": {
      "display_name": "Python 3",
      "language": "python",
      "name": "python3"
    },
    "language_info": {
      "codemirror_mode": {
        "name": "ipython",
        "version": 3
      },
      "file_extension": ".py",
      "mimetype": "text/x-python",
      "name": "python",
      "nbconvert_exporter": "python",
      "pygments_lexer": "ipython3",
      "version": "3.11.0"
    },
    "orig_nbformat": 4,
    "colab": {
      "provenance": []
    }
  },
  "nbformat": 4,
  "nbformat_minor": 0
}